{
 "cells": [
  {
   "cell_type": "markdown",
   "metadata": {},
   "source": [
    "# Teste técnico"
   ]
  },
  {
   "cell_type": "markdown",
   "metadata": {},
   "source": [
    "Por Marcos Vinicius Gracioli Malta de Oliveira\n",
    "\n",
    "E-mail:marvgm@gmail.com\n",
    "\n",
    "Data: 2018"
   ]
  },
  {
   "cell_type": "markdown",
   "metadata": {},
   "source": [
    "#### Importando as bibliotecas necessárias"
   ]
  },
  {
   "cell_type": "code",
   "execution_count": 20,
   "metadata": {},
   "outputs": [],
   "source": [
    "#modulo regex(Expressoes regulares)\n",
    "import re\n",
    "#modulo para trabalho com arquivos e diretórios\n",
    "import os"
   ]
  },
  {
   "cell_type": "markdown",
   "metadata": {},
   "source": [
    "## Juntando informação"
   ]
  },
  {
   "cell_type": "markdown",
   "metadata": {},
   "source": [
    "#### Definição \n",
    "\n",
    "Ler arquivos da pasta, criar vetor com o caminho dos mesmos e juntar toda informação em uma lista de dados\n",
    "\n",
    "#### Código"
   ]
  },
  {
   "cell_type": "code",
   "execution_count": 21,
   "metadata": {},
   "outputs": [],
   "source": [
    "# ler os txts \n",
    "folder_name = 'Dados'\n",
    "\n",
    "def encontraArquivosEmPastaRecursivamente(pasta, nomeInicial, extensao):\n",
    "    arquivosTxt = []\n",
    "    caminhoAbsoluto = os.path.abspath(pasta)\n",
    "    for pastaAtual, subPastas, arquivos  in os.walk(caminhoAbsoluto):\n",
    "        arquivosTxt.extend([os.path.join(pastaAtual,arquivo) for arquivo in arquivos if arquivo.startswith(nomeInicial) and arquivo.endswith(extensao)])\n",
    "    return arquivosTxt\n",
    "\n",
    "files = encontraArquivosEmPastaRecursivamente(folder_name, 'texto', '.txt')"
   ]
  },
  {
   "cell_type": "code",
   "execution_count": 22,
   "metadata": {},
   "outputs": [],
   "source": [
    "#Função remove caracteres indesejados com regex modulo re(Expressoes regulares) \n",
    "def RetiraCaracteres_espacosduplos_capitalizar(campo_):\n",
    "    campo_= campo_.casefold()\n",
    "    campo_= re.sub('[!@#$”“\".*-]',' ',campo_)\n",
    "    #retira espaços duplos\n",
    "    campo_ = re.sub(\"\\s+\", \" \", campo_)\n",
    "    return campo_.strip()\n",
    "\n",
    "\n",
    "lista_dados = []\n",
    "#leitura dos dados dos arquivos\n",
    "for filename in files:\n",
    "    with open(filename, encoding=\"utf8\") as f:\n",
    "        for linha in f:\n",
    "            try:\n",
    "                lista_dados.append(RetiraCaracteres_espacosduplos_capitalizar(linha))\n",
    "            except:\n",
    "                continue\n",
    "\n",
    "f.close()"
   ]
  },
  {
   "cell_type": "markdown",
   "metadata": {},
   "source": [
    "#### Teste"
   ]
  },
  {
   "cell_type": "code",
   "execution_count": 23,
   "metadata": {},
   "outputs": [
    {
     "name": "stdout",
     "output_type": "stream",
     "text": [
      "['falar é fácil mostre me o código', 'é fácil escrever código difícil é escrever código que funcione']\n"
     ]
    }
   ],
   "source": [
    "#Teste\n",
    "print(lista_dados)"
   ]
  },
  {
   "cell_type": "markdown",
   "metadata": {},
   "source": [
    "#### Definição \n",
    "\n",
    "Criar vocabulários e vetores de palavras\n",
    "\n",
    "#### Código"
   ]
  },
  {
   "cell_type": "code",
   "execution_count": 24,
   "metadata": {},
   "outputs": [],
   "source": [
    "#o método split () da expressão regular retorna uma lista de todas palavras.\n",
    "#Nesse caso, a entrada é \"\\ s +\": \"\\ s\" é um caractere especial que corresponde a qualquer espaço em branco (espaço, tabulação, nova linha, etc.) e \"+\" é um caractere que indica um ou mais dos entidade que o precede.\n",
    "regex = re.compile('\\s+')\n",
    "\n",
    "lista1 = regex.split(lista_dados[0])\n",
    "lista2 = regex.split(lista_dados[1])\n",
    "\n",
    "vocabulario1 = []\n",
    "\n",
    "#Palavras remover\n",
    "stop_words = ['o', 'a', 'que', 'me', 'as', 'e', 'os', 'de', 'para', 'com', 'sem', 'foi'] \n",
    "\n",
    "def criar_vocabulario1(lista):\n",
    "    for text in lista:\n",
    "        if (text not in vocabulario1) and (text not in stop_words):\n",
    "            vocabulario1.append(text)\n",
    "            \n",
    "criar_vocabulario1(lista1) \n",
    "criar_vocabulario1(lista2)\n",
    "\n",
    "def criar_vetorPalavras(vocabulario, lista=[], texto=''):\n",
    "    vetorPalavras = []\n",
    "    \n",
    "    if texto != '':\n",
    "        for i, elem in enumerate(vocabulario):\n",
    "            if elem in texto:\n",
    "                vetorPalavras.append(texto.count(elem))\n",
    "            else:\n",
    "                vetorPalavras.append(0)\n",
    "    else:\n",
    "        for i, elem in enumerate(vocabulario):\n",
    "            if elem in lista:\n",
    "                vetorPalavras.append(lista.count(elem))\n",
    "            else:\n",
    "                vetorPalavras.append(0)\n",
    "    \n",
    "    return vetorPalavras\n",
    "\n",
    "vetorPalavras1 = criar_vetorPalavras(vocabulario1, lista1, texto='')\n",
    "vetorPalavras2 = criar_vetorPalavras(vocabulario1, lista2, texto='')\n",
    "\n",
    "vocabulario2 = []\n",
    "\n",
    "def criar_vocabulario2(lista):\n",
    "    listaaux = []\n",
    "    for i, text in enumerate(lista):\n",
    "        if text not in stop_words:    \n",
    "            listaaux.append(text)\n",
    "    \n",
    "    for i, text in enumerate(listaaux):\n",
    "        if i < len(listaaux)-1:\n",
    "            textaux = listaaux[i]+' '+listaaux[i+1]\n",
    "        if textaux not in vocabulario2:\n",
    "            vocabulario2.append(textaux)\n",
    "            \n",
    "criar_vocabulario2(lista1) \n",
    "criar_vocabulario2(lista2)\n",
    "\n",
    "vetorPalavras3 = criar_vetorPalavras(vocabulario2, lista=[], texto=lista_dados[0])\n",
    "vetorPalavras4 = criar_vetorPalavras(vocabulario2, lista=[], texto=lista_dados[1])"
   ]
  },
  {
   "cell_type": "markdown",
   "metadata": {},
   "source": [
    "## Visualização dos dados"
   ]
  },
  {
   "cell_type": "code",
   "execution_count": 25,
   "metadata": {},
   "outputs": [
    {
     "name": "stdout",
     "output_type": "stream",
     "text": [
      "O 1º vacabulário de palavras isoladas é (sem stop-words):\n",
      "falar, é, fácil, mostre, código, escrever, difícil, funcione\n"
     ]
    }
   ],
   "source": [
    "print(\"O 1º vacabulário de palavras isoladas é (sem stop-words):\")\n",
    "print(*vocabulario1,sep = \", \") "
   ]
  },
  {
   "cell_type": "code",
   "execution_count": 26,
   "metadata": {},
   "outputs": [
    {
     "name": "stdout",
     "output_type": "stream",
     "text": [
      "O 1º vetor de palavra do vocabulário 1 é:\n",
      "1, 1, 1, 1, 1, 0, 0, 0\n"
     ]
    }
   ],
   "source": [
    "print(\"O 1º vetor de palavra do vocabulário 1 é:\")\n",
    "print(*vetorPalavras1,sep = \", \") "
   ]
  },
  {
   "cell_type": "code",
   "execution_count": 27,
   "metadata": {},
   "outputs": [
    {
     "name": "stdout",
     "output_type": "stream",
     "text": [
      "O 2º vetor de palavra do vocabulário 1 é:\n",
      "0, 2, 1, 0, 2, 2, 1, 1\n"
     ]
    }
   ],
   "source": [
    "print(\"O 2º vetor de palavra do vocabulário 1 é:\")\n",
    "print(*vetorPalavras2,sep = \", \") "
   ]
  },
  {
   "cell_type": "code",
   "execution_count": 28,
   "metadata": {},
   "outputs": [
    {
     "name": "stdout",
     "output_type": "stream",
     "text": [
      "O 2º vacabulário de palavras agrupadas (sem stop-words):\n",
      "falar é, é fácil, fácil mostre, mostre código, fácil escrever, escrever código, código difícil, difícil é, é escrever, código funcione\n"
     ]
    }
   ],
   "source": [
    "print(\"O 2º vacabulário de palavras agrupadas (sem stop-words):\")\n",
    "print(*vocabulario2,sep = \", \") "
   ]
  },
  {
   "cell_type": "code",
   "execution_count": 29,
   "metadata": {},
   "outputs": [
    {
     "name": "stdout",
     "output_type": "stream",
     "text": [
      "O 1º vetor de palavra do vocabulário 2 é:\n",
      "1, 1, 1, 0, 0, 0, 0, 0, 0, 0\n"
     ]
    }
   ],
   "source": [
    "print(\"O 1º vetor de palavra do vocabulário 2 é:\")\n",
    "print(*vetorPalavras3,sep = \", \") "
   ]
  },
  {
   "cell_type": "code",
   "execution_count": 30,
   "metadata": {},
   "outputs": [
    {
     "name": "stdout",
     "output_type": "stream",
     "text": [
      "O 2º vetor de palavra do vocabulário 2 é:\n",
      "0, 1, 0, 0, 1, 2, 1, 1, 1, 0\n"
     ]
    }
   ],
   "source": [
    "print(\"O 2º vetor de palavra do vocabulário 2 é:\")\n",
    "print(*vetorPalavras4,sep = \", \") "
   ]
  }
 ],
 "metadata": {
  "kernelspec": {
   "display_name": "Python 3",
   "language": "python",
   "name": "python3"
  },
  "language_info": {
   "codemirror_mode": {
    "name": "ipython",
    "version": 3
   },
   "file_extension": ".py",
   "mimetype": "text/x-python",
   "name": "python",
   "nbconvert_exporter": "python",
   "pygments_lexer": "ipython3",
   "version": "3.6.6"
  }
 },
 "nbformat": 4,
 "nbformat_minor": 2
}
